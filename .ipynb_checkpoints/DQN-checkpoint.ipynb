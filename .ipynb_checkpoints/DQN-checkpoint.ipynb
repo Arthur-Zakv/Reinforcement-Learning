{
 "cells": [
  {
   "cell_type": "code",
   "execution_count": 1,
   "id": "e68eac1c",
   "metadata": {},
   "outputs": [],
   "source": [
    "import torch\n",
    "import torch.nn as nn\n",
    "from torch.optim import Adam\n",
    "from torch.nn.utils import clip_grad_norm_\n",
    "import torch.distributions as td\n",
    "\n",
    "import numpy as np\n",
    "from numpy.random import normal, randint, choice\n",
    "\n",
    "import scipy as sp\n",
    "from scipy.special import softmax\n",
    "\n",
    "import matplotlib.pyplot as plt\n",
    "from collections import defaultdict"
   ]
  },
  {
   "cell_type": "code",
   "execution_count": 5,
   "id": "67351459",
   "metadata": {},
   "outputs": [],
   "source": [
    "def loss_fn(V_pred, V_gt):\n",
    "    \"\"\"\n",
    "    Arguments\n",
    "    ---------\n",
    "    G : torch.tensor[1]\n",
    "    V : torch.tensor[1]\n",
    "\n",
    "    Returns\n",
    "    -------\n",
    "    MSE : torch.tensor[1]\n",
    "    \"\"\"\n",
    "    MSE = ((V_pred - V_gt) ** 2).mean()\n",
    "    return MSE"
   ]
  },
  {
   "cell_type": "code",
   "execution_count": 6,
   "id": "832b0fff",
   "metadata": {},
   "outputs": [],
   "source": []
  },
  {
   "cell_type": "code",
   "execution_count": 7,
   "id": "f1972248",
   "metadata": {},
   "outputs": [],
   "source": []
  },
  {
   "cell_type": "code",
   "execution_count": 8,
   "id": "68311aca",
   "metadata": {},
   "outputs": [],
   "source": []
  },
  {
   "cell_type": "code",
   "execution_count": 9,
   "id": "fda2701d",
   "metadata": {},
   "outputs": [],
   "source": []
  },
  {
   "cell_type": "code",
   "execution_count": 10,
   "id": "803f539b",
   "metadata": {},
   "outputs": [],
   "source": []
  },
  {
   "cell_type": "code",
   "execution_count": 17,
   "id": "37fc2ff0",
   "metadata": {},
   "outputs": [],
   "source": []
  },
  {
   "cell_type": "code",
   "execution_count": 12,
   "id": "7a114766",
   "metadata": {},
   "outputs": [],
   "source": []
  },
  {
   "cell_type": "code",
   "execution_count": 13,
   "id": "365008cc",
   "metadata": {},
   "outputs": [],
   "source": [
    "world = MDPWorld(10,10)"
   ]
  },
  {
   "cell_type": "code",
   "execution_count": 14,
   "id": "ea731428",
   "metadata": {},
   "outputs": [],
   "source": [
    "agent = DoubleDQN()\n",
    "agent.place(world)\n",
    "agent.learn() # gute nummer: 3000-100"
   ]
  },
  {
   "cell_type": "code",
   "execution_count": 15,
   "id": "88f378c2",
   "metadata": {},
   "outputs": [
    {
     "data": {
      "text/plain": [
       "tensor(143.2325)"
      ]
     },
     "execution_count": 15,
     "metadata": {},
     "output_type": "execute_result"
    }
   ],
   "source": [
    "world.V(pi = agent.pi.probs).sum()"
   ]
  },
  {
   "cell_type": "code",
   "execution_count": 16,
   "id": "bd3e9fd4",
   "metadata": {},
   "outputs": [
    {
     "data": {
      "text/plain": [
       "tensor(172.3668)"
      ]
     },
     "execution_count": 16,
     "metadata": {},
     "output_type": "execute_result"
    }
   ],
   "source": [
    "world.V_opt.sum()"
   ]
  }
 ],
 "metadata": {
  "kernelspec": {
   "display_name": "Python [conda env:torch] *",
   "language": "python",
   "name": "conda-env-torch-py"
  },
  "language_info": {
   "codemirror_mode": {
    "name": "ipython",
    "version": 3
   },
   "file_extension": ".py",
   "mimetype": "text/x-python",
   "name": "python",
   "nbconvert_exporter": "python",
   "pygments_lexer": "ipython3",
   "version": "3.8.8"
  }
 },
 "nbformat": 4,
 "nbformat_minor": 5
}
